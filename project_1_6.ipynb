{
 "cells": [
  {
   "cell_type": "markdown",
   "id": "cd11da2a",
   "metadata": {},
   "source": [
    "# Project 1, Part 6, Identifying Best Customers\n"
   ]
  },
  {
   "cell_type": "markdown",
   "id": "701f1c25",
   "metadata": {},
   "source": [
    "# 1.6 Ideas on how the sales data can be used to help identify best customers\n",
    "\n",
    "The data science team would like to know your best ideas on how the sales data can be used to help identify the company's best customers.\n",
    "\n",
    "\n",
    "\n",
    "They are going to start with the most common and most basic model known as RFM, which consists of the 3 dimensions.\n",
    "\n",
    "* R - Recency - How recently did the customer purchase?\n",
    "\n",
    "* F - Frequency - How often do they purchase?\n",
    "\n",
    "* M - Monetary Value - How much do they spend?\n",
    "\n",
    "\n",
    "\n",
    "At first glance, it's pretty easy to think of a simple query for each dimension.\n",
    "\n",
    "However, after some thought, it's not quite so easy. It's very open ended, with a lot of grey areas, and no single right or wrong answer (just like 99% of data science and AI!)  For each dimension, there can be some pretty complex ways to determine.\n",
    "\n",
    "The data science team also has to come up with a way to synthesize the 3 dimensions into a single customer value for each customer.\n",
    "\n",
    "\n",
    "\n",
    "The data science team would like for you to present your ideas in the form of a title and 4 paragraphs as follows:\n",
    "\n",
    "* Title - A title describing what you will be explaining\n",
    "\n",
    "* Recency - A brief paragraph explaining your ideas on how the data can be used to determine recency.  \n",
    "\n",
    "* Frequency - A brief paragraph explaining your ideas on how the data can be used to determine frequency.\n",
    "\n",
    "* Monetary Value - A brief paragraph explaining your ideas on how the data can be used to determine monetary value.\n",
    "\n",
    "* Synthesis - A brief paragraph explaining your ideas on how to synthesize the 3 dimensions of recency, frequency, and monetary value into a customer value for each customer and how to determine who the best customers are.\n",
    "\n",
    "\n",
    "\n",
    "Put the title and all 4 paragraphs in a single markdown cell.\n",
    "\n",
    "Note that you do not write code for this, only english language descriptions of your ideas.\n",
    "\n"
   ]
  },
  {
   "cell_type": "markdown",
   "id": "67dd986f",
   "metadata": {},
   "source": [
    "# Replace this with your title\n",
    "\n",
    "## Recency\n",
    "Joining on our store, client, sales, and line item tables, we can filter on a given client's last purchase, the type and quantity of the purchase, and from what location they used. We can use this information to gauge how receptive a client may be to differing types of marketing. Examples include reducing churn by providing retention based offers to those who have not made a purchase in some time and providing new opportunities to those that may have the brand more on their mind due to a recent purchase.\n",
    "\n",
    "## Frequency\n",
    "Again joining on our store, client, sales, and line item tables, we can filter on locations and sales and groupby client ids to see a given client's purchase history and the type and quantity of meals they purchase. This can help predict when they are likeley to purchase again, and the type and quantity of said purchase. From a logistics standpoint, this can help streamline operations by inferring what types of meals and the volume we should expect to have available at each location. Considering client segmentation, this can help determine our most loyal customers and allow us to reward and incentivise recurring purchases.\n",
    "\n",
    "## Monetary Value\n",
    "From our client and sales tables, we can aggregrate the sum of all of their purchases over useful time intervals to see the trends in profit made from each client. This can help distinguish our highest spending customers and draw insights about who our most profitable clients are.\n",
    "\n",
    "## Synthesis\n",
    "Now that we have insight into our clients and their habits, it is time to put this data to work. I propose tailoring this information to streamline our own operations, specifically having the right number of meals ready for pickup at each location on any given day that facilitates bulk preparation and delivery of fresh meals. My assumption is that large, recurring orders, that are known ahead of time, are the most profitable and easiest logistically to implement. Therefore, clients with the least to most amount of overhead are:\n",
    "- Large bulk orders occuring on known, but generally less frequent interval\n",
    "- Smaller orders occuring on known, but generally more frequent intervals\n",
    "- New indivuals or previous clients that purchase an irregular quantity on a varied interval\n",
    "\n",
    "We can create a model that provides a \"baseload\" of meals to be supplied to each location based on the subscription based orders. We can then add a separate model that aims to predict the more variable order types. These metrics can be combined with costs of meals based on how many days orders were placed ahead of delivery (meals costing more as they are placed closer the delivery date) to give an expected Customer Lifetime Value (CLV). Lastly, recency data can be used to incentivise clients towards ordering characteristics that are attributed with clients that have the highest CLV. For example, incentivising towards recurring or subscription-based orders, or providing discounts on days that are known to have excess meals prepared based on customer segment. \n"
   ]
  },
  {
   "cell_type": "code",
   "execution_count": null,
   "id": "41a4a78f",
   "metadata": {},
   "outputs": [],
   "source": []
  }
 ],
 "metadata": {
  "kernelspec": {
   "display_name": "Python 3 (ipykernel)",
   "language": "python",
   "name": "python3"
  },
  "language_info": {
   "codemirror_mode": {
    "name": "ipython",
    "version": 3
   },
   "file_extension": ".py",
   "mimetype": "text/x-python",
   "name": "python",
   "nbconvert_exporter": "python",
   "pygments_lexer": "ipython3",
   "version": "3.9.7"
  }
 },
 "nbformat": 4,
 "nbformat_minor": 5
}
